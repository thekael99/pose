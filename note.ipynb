{
 "cells": [
  {
   "cell_type": "code",
   "execution_count": 1,
   "metadata": {},
   "outputs": [],
   "source": [
    "import torch\n",
    "import torchvision\n",
    "import torchvision.transforms as transforms\n",
    "import torch.nn as nn\n",
    "import torch.nn.functional as F\n",
    "import torch.optim as optim\n",
    "from torchsummary import summary\n",
    "\n",
    "from module import Extractor, Distance, ConvEncoder, FCEncoder, ConvDecoder"
   ]
  },
  {
   "cell_type": "code",
   "execution_count": 2,
   "metadata": {},
   "outputs": [],
   "source": [
    "device = torch.device(\"cuda\" if torch.cuda.is_available() else \"cpu\")"
   ]
  },
  {
   "cell_type": "code",
   "execution_count": 3,
   "metadata": {},
   "outputs": [],
   "source": [
    "# extractor = Extractor().to(device)\n",
    "# summary(extractor, (3,256,256))"
   ]
  },
  {
   "cell_type": "code",
   "execution_count": 4,
   "metadata": {},
   "outputs": [
    {
     "name": "stdout",
     "output_type": "stream",
     "text": [
      "----------------------------------------------------------------\n",
      "        Layer (type)               Output Shape         Param #\n",
      "================================================================\n",
      "            Conv2d-1          [-1, 128, 16, 16]       2,359,296\n",
      "       BatchNorm2d-2          [-1, 128, 16, 16]             256\n",
      "              ReLU-3          [-1, 128, 16, 16]               0\n",
      "            Conv2d-4          [-1, 128, 16, 16]         147,456\n",
      "       BatchNorm2d-5          [-1, 128, 16, 16]             256\n",
      "            Conv2d-6          [-1, 128, 16, 16]       2,359,424\n",
      "            Conv2d-7          [-1, 128, 16, 16]       2,359,424\n",
      "       BatchNorm2d-8          [-1, 128, 16, 16]             256\n",
      "       BatchNorm2d-9          [-1, 128, 16, 16]             256\n",
      "             ReLU-10          [-1, 128, 16, 16]               0\n",
      "            Block-11          [-1, 128, 16, 16]               0\n",
      "        MaxPool2d-12            [-1, 128, 8, 8]               0\n",
      "           Conv2d-13             [-1, 16, 8, 8]          18,432\n",
      "      BatchNorm2d-14             [-1, 16, 8, 8]              32\n",
      "             ReLU-15             [-1, 16, 8, 8]               0\n",
      "           Conv2d-16             [-1, 16, 8, 8]           2,304\n",
      "      BatchNorm2d-17             [-1, 16, 8, 8]              32\n",
      "           Conv2d-18             [-1, 16, 8, 8]          18,448\n",
      "           Conv2d-19             [-1, 16, 8, 8]          18,448\n",
      "      BatchNorm2d-20             [-1, 16, 8, 8]              32\n",
      "      BatchNorm2d-21             [-1, 16, 8, 8]              32\n",
      "             ReLU-22             [-1, 16, 8, 8]               0\n",
      "            Block-23             [-1, 16, 8, 8]               0\n",
      "          Flatten-24                 [-1, 1024]               0\n",
      "           Linear-25                   [-1, 15]          15,375\n",
      "             ReLU-26                   [-1, 15]               0\n",
      "================================================================\n",
      "Total params: 7,299,759\n",
      "Trainable params: 7,299,759\n",
      "Non-trainable params: 0\n",
      "----------------------------------------------------------------\n",
      "Input size (MB): 2.00\n",
      "Forward/backward pass size (MB): 2.91\n",
      "Params size (MB): 27.85\n",
      "Estimated Total Size (MB): 32.75\n",
      "----------------------------------------------------------------\n"
     ]
    }
   ],
   "source": [
    "distance_module = Distance().to(device)\n",
    "summary(distance_module, (2048,16,16))"
   ]
  },
  {
   "cell_type": "code",
   "execution_count": 5,
   "metadata": {},
   "outputs": [],
   "source": [
    "# convEnc = ConvEncoder()\n",
    "# summary(ConvEnc, (15,32,32))"
   ]
  },
  {
   "cell_type": "code",
   "execution_count": 6,
   "metadata": {},
   "outputs": [],
   "source": [
    "# fcEnc = FCEncoder()\n",
    "# print(fcEnc)"
   ]
  },
  {
   "cell_type": "code",
   "execution_count": 7,
   "metadata": {},
   "outputs": [],
   "source": [
    "# convDec = ConvDecoder()\n",
    "# summary(convDec, (512,4,4))"
   ]
  }
 ],
 "metadata": {
  "interpreter": {
   "hash": "31f2aee4e71d21fbe5cf8b01ff0e069b9275f58929596ceb00d14d90e3e16cd6"
  },
  "kernelspec": {
   "display_name": "Python 3.8.9 64-bit",
   "language": "python",
   "name": "python3"
  },
  "language_info": {
   "codemirror_mode": {
    "name": "ipython",
    "version": 3
   },
   "file_extension": ".py",
   "mimetype": "text/x-python",
   "name": "python",
   "nbconvert_exporter": "python",
   "pygments_lexer": "ipython3",
   "version": "3.8.9"
  },
  "orig_nbformat": 4
 },
 "nbformat": 4,
 "nbformat_minor": 2
}
